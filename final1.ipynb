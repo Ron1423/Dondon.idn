{
  "nbformat": 4,
  "nbformat_minor": 0,
  "metadata": {
    "colab": {
      "provenance": [],
      "include_colab_link": true
    },
    "kernelspec": {
      "name": "python3",
      "display_name": "Python 3"
    },
    "language_info": {
      "name": "python"
    }
  },
  "cells": [
    {
      "cell_type": "markdown",
      "metadata": {
        "id": "view-in-github",
        "colab_type": "text"
      },
      "source": [
        "<a href=\"https://colab.research.google.com/github/Ron1423/Dondon.idn/blob/master/final1.ipynb\" target=\"_parent\"><img src=\"https://colab.research.google.com/assets/colab-badge.svg\" alt=\"Open In Colab\"/></a>"
      ]
    },
    {
      "cell_type": "markdown",
      "source": [],
      "metadata": {
        "id": "iktbBKoA4IBr"
      }
    },
    {
      "cell_type": "markdown",
      "source": [
        "Membuat feature engineering dan evaluasi model pada data consumer complaint prediction menggunakan:\n",
        "1. Count vectorizer\n",
        "2. Co-occurrence matrix"
      ],
      "metadata": {
        "id": "duZOcnmCtqM5"
      }
    },
    {
      "cell_type": "code",
      "execution_count": 2,
      "metadata": {
        "colab": {
          "base_uri": "https://localhost:8080/"
        },
        "id": "29H1ObVEswgQ",
        "outputId": "d3cc78ec-e7b6-4176-86e6-effc3f612964"
      },
      "outputs": [
        {
          "output_type": "stream",
          "name": "stdout",
          "text": [
            "Mounted at /content/drive\n"
          ]
        }
      ],
      "source": [
        "#Hubungkan ke google drive\n",
        "from google.colab import drive\n",
        "drive.mount('/content/drive')"
      ]
    },
    {
      "cell_type": "code",
      "source": [
        "#Library yang digunakan\n",
        "\n",
        "import numpy as np\n",
        "import pandas as pd\n",
        "import matplotlib.pyplot as plt\n",
        "import string\n",
        "from nltk.stem import SnowballStemmer\n",
        "from nltk.corpus import stopwords\n",
        "from sklearn.feature_extraction.text import TfidfVectorizer\n",
        "from sklearn.model_selection import train_test_split\n",
        "import os\n",
        "from textblob import TextBlob\n",
        "from nltk.stem import PorterStemmer\n",
        "from textblob import Word\n",
        "from sklearn.feature_extraction.text import CountVectorizer,TfidfVectorizer\n",
        "import sklearn.feature_extraction.text as text\n",
        "from sklearn import model_selection, preprocessing, linear_model, naive_bayes, metrics, svm\n",
        "from sklearn.naive_bayes import MultinomialNB\n",
        "from sklearn.linear_model import LogisticRegression\n",
        "from sklearn.ensemble import RandomForestClassifier\n",
        "from sklearn.svm import LinearSVC\n",
        "from sklearn.model_selection import cross_val_score\n",
        "from io import StringIO\n",
        "import seaborn as sns"
      ],
      "metadata": {
        "id": "iExfV84XuCYq"
      },
      "execution_count": 3,
      "outputs": []
    },
    {
      "cell_type": "code",
      "source": [
        "#membaca dataset yang sudah di upload ke google dirve\n",
        "\n",
        "Data = pd.read_csv(\"drive/My Drive/Expert System/consumer_complaints.csv\",encoding='latin-1')"
      ],
      "metadata": {
        "colab": {
          "base_uri": "https://localhost:8080/"
        },
        "id": "jTzvfENXuMAv",
        "outputId": "c713a1f8-a6bd-4805-c1f7-0056a6a169a1"
      },
      "execution_count": 5,
      "outputs": [
        {
          "output_type": "stream",
          "name": "stderr",
          "text": [
            "<ipython-input-5-e730e22124a7>:3: DtypeWarning: Columns (5,11) have mixed types. Specify dtype option on import or set low_memory=False.\n",
            "  Data = pd.read_csv(\"drive/My Drive/Expert System/consumer_complaints.csv\",encoding='latin-1')\n"
          ]
        }
      ]
    },
    {
      "cell_type": "code",
      "source": [
        "#Inisialisasi data colom untuk 'product' dan 'consumer_complaint_narrative'\n",
        "Data = Data[['product','consumer_complaint_narrative']]\n",
        "\n",
        "#Mengambil data pada colom 'consumer_complaint_narrative'\n",
        "Data = Data[pd.notnull(Data['consumer_complaint_narrative'])]\n",
        "\n",
        "#tampilkan 5 data terbawah\n",
        "Data.tail()\n",
        "\n",
        "#Mengambil data pada kolom 'procuct'\n",
        "Data['category_id'] = Data['product'].factorize()[0]\n",
        "\n",
        "#tampilkan 5 data terbawah\n",
        "Data.tail()"
      ],
      "metadata": {
        "colab": {
          "base_uri": "https://localhost:8080/",
          "height": 206
        },
        "id": "vCoEBrLvurKg",
        "outputId": "8ccc315f-6f0d-4f63-a18a-9862052d600e"
      },
      "execution_count": null,
      "outputs": [
        {
          "output_type": "execute_result",
          "data": {
            "text/plain": [
              "                 product                       consumer_complaint_narrative  \\\n",
              "553084  Credit reporting  XXXX XXXX is reporting incorrectly, payments h...   \n",
              "553085  Credit reporting  Reflecting incorrect payment status. Have been...   \n",
              "553086       Payday loan  I have been paying {$180.00} a month through d...   \n",
              "553090          Mortgage  I recently became aware that Amerisave Mortgag...   \n",
              "553096          Mortgage  Bank of America has demonstrated an on-going l...   \n",
              "\n",
              "        category_id  \n",
              "553084            4  \n",
              "553085            4  \n",
              "553086            7  \n",
              "553090            2  \n",
              "553096            2  "
            ],
            "text/html": [
              "\n",
              "  <div id=\"df-5ae7c047-c153-4fcd-b432-927dc0be6d21\">\n",
              "    <div class=\"colab-df-container\">\n",
              "      <div>\n",
              "<style scoped>\n",
              "    .dataframe tbody tr th:only-of-type {\n",
              "        vertical-align: middle;\n",
              "    }\n",
              "\n",
              "    .dataframe tbody tr th {\n",
              "        vertical-align: top;\n",
              "    }\n",
              "\n",
              "    .dataframe thead th {\n",
              "        text-align: right;\n",
              "    }\n",
              "</style>\n",
              "<table border=\"1\" class=\"dataframe\">\n",
              "  <thead>\n",
              "    <tr style=\"text-align: right;\">\n",
              "      <th></th>\n",
              "      <th>product</th>\n",
              "      <th>consumer_complaint_narrative</th>\n",
              "      <th>category_id</th>\n",
              "    </tr>\n",
              "  </thead>\n",
              "  <tbody>\n",
              "    <tr>\n",
              "      <th>553084</th>\n",
              "      <td>Credit reporting</td>\n",
              "      <td>XXXX XXXX is reporting incorrectly, payments h...</td>\n",
              "      <td>4</td>\n",
              "    </tr>\n",
              "    <tr>\n",
              "      <th>553085</th>\n",
              "      <td>Credit reporting</td>\n",
              "      <td>Reflecting incorrect payment status. Have been...</td>\n",
              "      <td>4</td>\n",
              "    </tr>\n",
              "    <tr>\n",
              "      <th>553086</th>\n",
              "      <td>Payday loan</td>\n",
              "      <td>I have been paying {$180.00} a month through d...</td>\n",
              "      <td>7</td>\n",
              "    </tr>\n",
              "    <tr>\n",
              "      <th>553090</th>\n",
              "      <td>Mortgage</td>\n",
              "      <td>I recently became aware that Amerisave Mortgag...</td>\n",
              "      <td>2</td>\n",
              "    </tr>\n",
              "    <tr>\n",
              "      <th>553096</th>\n",
              "      <td>Mortgage</td>\n",
              "      <td>Bank of America has demonstrated an on-going l...</td>\n",
              "      <td>2</td>\n",
              "    </tr>\n",
              "  </tbody>\n",
              "</table>\n",
              "</div>\n",
              "      <button class=\"colab-df-convert\" onclick=\"convertToInteractive('df-5ae7c047-c153-4fcd-b432-927dc0be6d21')\"\n",
              "              title=\"Convert this dataframe to an interactive table.\"\n",
              "              style=\"display:none;\">\n",
              "        \n",
              "  <svg xmlns=\"http://www.w3.org/2000/svg\" height=\"24px\"viewBox=\"0 0 24 24\"\n",
              "       width=\"24px\">\n",
              "    <path d=\"M0 0h24v24H0V0z\" fill=\"none\"/>\n",
              "    <path d=\"M18.56 5.44l.94 2.06.94-2.06 2.06-.94-2.06-.94-.94-2.06-.94 2.06-2.06.94zm-11 1L8.5 8.5l.94-2.06 2.06-.94-2.06-.94L8.5 2.5l-.94 2.06-2.06.94zm10 10l.94 2.06.94-2.06 2.06-.94-2.06-.94-.94-2.06-.94 2.06-2.06.94z\"/><path d=\"M17.41 7.96l-1.37-1.37c-.4-.4-.92-.59-1.43-.59-.52 0-1.04.2-1.43.59L10.3 9.45l-7.72 7.72c-.78.78-.78 2.05 0 2.83L4 21.41c.39.39.9.59 1.41.59.51 0 1.02-.2 1.41-.59l7.78-7.78 2.81-2.81c.8-.78.8-2.07 0-2.86zM5.41 20L4 18.59l7.72-7.72 1.47 1.35L5.41 20z\"/>\n",
              "  </svg>\n",
              "      </button>\n",
              "      \n",
              "  <style>\n",
              "    .colab-df-container {\n",
              "      display:flex;\n",
              "      flex-wrap:wrap;\n",
              "      gap: 12px;\n",
              "    }\n",
              "\n",
              "    .colab-df-convert {\n",
              "      background-color: #E8F0FE;\n",
              "      border: none;\n",
              "      border-radius: 50%;\n",
              "      cursor: pointer;\n",
              "      display: none;\n",
              "      fill: #1967D2;\n",
              "      height: 32px;\n",
              "      padding: 0 0 0 0;\n",
              "      width: 32px;\n",
              "    }\n",
              "\n",
              "    .colab-df-convert:hover {\n",
              "      background-color: #E2EBFA;\n",
              "      box-shadow: 0px 1px 2px rgba(60, 64, 67, 0.3), 0px 1px 3px 1px rgba(60, 64, 67, 0.15);\n",
              "      fill: #174EA6;\n",
              "    }\n",
              "\n",
              "    [theme=dark] .colab-df-convert {\n",
              "      background-color: #3B4455;\n",
              "      fill: #D2E3FC;\n",
              "    }\n",
              "\n",
              "    [theme=dark] .colab-df-convert:hover {\n",
              "      background-color: #434B5C;\n",
              "      box-shadow: 0px 1px 3px 1px rgba(0, 0, 0, 0.15);\n",
              "      filter: drop-shadow(0px 1px 2px rgba(0, 0, 0, 0.3));\n",
              "      fill: #FFFFFF;\n",
              "    }\n",
              "  </style>\n",
              "\n",
              "      <script>\n",
              "        const buttonEl =\n",
              "          document.querySelector('#df-5ae7c047-c153-4fcd-b432-927dc0be6d21 button.colab-df-convert');\n",
              "        buttonEl.style.display =\n",
              "          google.colab.kernel.accessAllowed ? 'block' : 'none';\n",
              "\n",
              "        async function convertToInteractive(key) {\n",
              "          const element = document.querySelector('#df-5ae7c047-c153-4fcd-b432-927dc0be6d21');\n",
              "          const dataTable =\n",
              "            await google.colab.kernel.invokeFunction('convertToInteractive',\n",
              "                                                     [key], {});\n",
              "          if (!dataTable) return;\n",
              "\n",
              "          const docLinkHtml = 'Like what you see? Visit the ' +\n",
              "            '<a target=\"_blank\" href=https://colab.research.google.com/notebooks/data_table.ipynb>data table notebook</a>'\n",
              "            + ' to learn more about interactive tables.';\n",
              "          element.innerHTML = '';\n",
              "          dataTable['output_type'] = 'display_data';\n",
              "          await google.colab.output.renderOutput(dataTable, element);\n",
              "          const docLink = document.createElement('div');\n",
              "          docLink.innerHTML = docLinkHtml;\n",
              "          element.appendChild(docLink);\n",
              "        }\n",
              "      </script>\n",
              "    </div>\n",
              "  </div>\n",
              "  "
            ]
          },
          "metadata": {},
          "execution_count": 7
        }
      ]
    },
    {
      "cell_type": "markdown",
      "source": [
        "Melakukan Preprocessing"
      ],
      "metadata": {
        "id": "SCWj6zWZvo6y"
      }
    },
    {
      "cell_type": "code",
      "source": [
        "#a. Buat lowercase untuk data kolom 'comsumer_complaint_narrative'\n",
        "\n",
        "Data['consumer_complaint_narrative'] = Data['consumer_complaint_narrative'].apply(lambda x: \" \".join(x.lower()\n",
        "for x in x.split()))\n",
        "Data['consumer_complaint_narrative']"
      ],
      "metadata": {
        "colab": {
          "base_uri": "https://localhost:8080/"
        },
        "id": "X0n--idruY1F",
        "outputId": "72a64a24-f353-48d5-f115-662eb01a9d67"
      },
      "execution_count": null,
      "outputs": [
        {
          "output_type": "execute_result",
          "data": {
            "text/plain": [
              "190126    xxxx has claimed i owe them {$27.00} for xxxx ...\n",
              "190135    due to inconsistencies in the amount owed that...\n",
              "190155    in xx/xx/xxxx my wages that i earned at my job...\n",
              "190207    i have an open and current mortgage with chase...\n",
              "190208    xxxx was submitted xx/xx/xxxx. at the time i s...\n",
              "                                ...                        \n",
              "553084    xxxx xxxx is reporting incorrectly, payments h...\n",
              "553085    reflecting incorrect payment status. have been...\n",
              "553086    i have been paying {$180.00} a month through d...\n",
              "553090    i recently became aware that amerisave mortgag...\n",
              "553096    bank of america has demonstrated an on-going l...\n",
              "Name: consumer_complaint_narrative, Length: 66806, dtype: object"
            ]
          },
          "metadata": {},
          "execution_count": 14
        }
      ]
    },
    {
      "cell_type": "code",
      "source": [
        "#b. remove punctuation\n",
        "Data['consumer_complaint_narrative'] = Data['consumer_complaint_narrative'].str.replace('[^\\w\\s]','')\n",
        "Data['consumer_complaint_narrative'] = Data['consumer_complaint_narrative'].str.replace('((www\\.[^\\s]+)|(https?://[^\\s]+)|(hrefhttp?://[^\\s]+))','URL')\n",
        "\n",
        "Data['consumer_complaint_narrative']"
      ],
      "metadata": {
        "colab": {
          "base_uri": "https://localhost:8080/"
        },
        "id": "m605IZl773kD",
        "outputId": "bb7862d2-a807-4695-fd94-1679dc582253"
      },
      "execution_count": null,
      "outputs": [
        {
          "output_type": "stream",
          "name": "stderr",
          "text": [
            "/usr/local/lib/python3.7/dist-packages/ipykernel_launcher.py:3: FutureWarning: The default value of regex will change from True to False in a future version.\n",
            "  This is separate from the ipykernel package so we can avoid doing imports until\n",
            "/usr/local/lib/python3.7/dist-packages/ipykernel_launcher.py:4: FutureWarning: The default value of regex will change from True to False in a future version.\n",
            "  after removing the cwd from sys.path.\n"
          ]
        },
        {
          "output_type": "execute_result",
          "data": {
            "text/plain": [
              "190126    xxxx has claimed i owe them 2700 for xxxx year...\n",
              "190135    due to inconsistencies in the amount owed that...\n",
              "190155    in xxxxxxxx my wages that i earned at my job d...\n",
              "190207    i have an open and current mortgage with chase...\n",
              "190208    xxxx was submitted xxxxxxxx at the time i subm...\n",
              "                                ...                        \n",
              "553084    xxxx xxxx is reporting incorrectly payments ha...\n",
              "553085    reflecting incorrect payment status have been ...\n",
              "553086    i have been paying 18000 a month through direc...\n",
              "553090    i recently became aware that amerisave mortgag...\n",
              "553096    bank of america has demonstrated an ongoing le...\n",
              "Name: consumer_complaint_narrative, Length: 66806, dtype: object"
            ]
          },
          "metadata": {},
          "execution_count": 15
        }
      ]
    },
    {
      "cell_type": "code",
      "source": [
        "#c. Remove stopwords\n",
        "\n",
        "nltk.download('stopwords')\n",
        "stop = stopwords.words('english')\n",
        "Data['consumer_complaint_narrative'] = Data['consumer_complaint_narrative'].apply(lambda x: \" \".join(x for x in x.split() if x not in stop))\n",
        "\n",
        "\n",
        "Data['consumer_complaint_narrative']"
      ],
      "metadata": {
        "colab": {
          "base_uri": "https://localhost:8080/",
          "height": 237
        },
        "id": "4Ye8_dVK8JeB",
        "outputId": "38cbf3b0-e6ea-4cb1-dbc0-9d916553811c"
      },
      "execution_count": null,
      "outputs": [
        {
          "output_type": "error",
          "ename": "NameError",
          "evalue": "ignored",
          "traceback": [
            "\u001b[0;31m---------------------------------------------------------------------------\u001b[0m",
            "\u001b[0;31mNameError\u001b[0m                                 Traceback (most recent call last)",
            "\u001b[0;32m<ipython-input-8-1f9182bfe97d>\u001b[0m in \u001b[0;36m<module>\u001b[0;34m()\u001b[0m\n\u001b[1;32m      1\u001b[0m \u001b[0;31m#c. Remove stopwords\u001b[0m\u001b[0;34m\u001b[0m\u001b[0;34m\u001b[0m\u001b[0;34m\u001b[0m\u001b[0m\n\u001b[1;32m      2\u001b[0m \u001b[0;34m\u001b[0m\u001b[0m\n\u001b[0;32m----> 3\u001b[0;31m \u001b[0mnltk\u001b[0m\u001b[0;34m.\u001b[0m\u001b[0mdownload\u001b[0m\u001b[0;34m(\u001b[0m\u001b[0;34m'stopwords'\u001b[0m\u001b[0;34m)\u001b[0m\u001b[0;34m\u001b[0m\u001b[0;34m\u001b[0m\u001b[0m\n\u001b[0m\u001b[1;32m      4\u001b[0m \u001b[0mstop\u001b[0m \u001b[0;34m=\u001b[0m \u001b[0mstopwords\u001b[0m\u001b[0;34m.\u001b[0m\u001b[0mwords\u001b[0m\u001b[0;34m(\u001b[0m\u001b[0;34m'english'\u001b[0m\u001b[0;34m)\u001b[0m\u001b[0;34m\u001b[0m\u001b[0;34m\u001b[0m\u001b[0m\n\u001b[1;32m      5\u001b[0m \u001b[0mData\u001b[0m\u001b[0;34m[\u001b[0m\u001b[0;34m'consumer_complaint_narrative'\u001b[0m\u001b[0;34m]\u001b[0m \u001b[0;34m=\u001b[0m \u001b[0mData\u001b[0m\u001b[0;34m[\u001b[0m\u001b[0;34m'consumer_complaint_narrative'\u001b[0m\u001b[0;34m]\u001b[0m\u001b[0;34m.\u001b[0m\u001b[0mapply\u001b[0m\u001b[0;34m(\u001b[0m\u001b[0;32mlambda\u001b[0m \u001b[0mx\u001b[0m\u001b[0;34m:\u001b[0m \u001b[0;34m\" \"\u001b[0m\u001b[0;34m.\u001b[0m\u001b[0mjoin\u001b[0m\u001b[0;34m(\u001b[0m\u001b[0mx\u001b[0m \u001b[0;32mfor\u001b[0m \u001b[0mx\u001b[0m \u001b[0;32min\u001b[0m \u001b[0mx\u001b[0m\u001b[0;34m.\u001b[0m\u001b[0msplit\u001b[0m\u001b[0;34m(\u001b[0m\u001b[0;34m)\u001b[0m \u001b[0;32mif\u001b[0m \u001b[0mx\u001b[0m \u001b[0;32mnot\u001b[0m \u001b[0;32min\u001b[0m \u001b[0mstop\u001b[0m\u001b[0;34m)\u001b[0m\u001b[0;34m)\u001b[0m\u001b[0;34m\u001b[0m\u001b[0;34m\u001b[0m\u001b[0m\n",
            "\u001b[0;31mNameError\u001b[0m: name 'nltk' is not defined"
          ]
        }
      ]
    },
    {
      "cell_type": "code",
      "source": [
        "Data.groupby('product').consumer_complaint_narrative.count()\n",
        "\n",
        "fig = plt.figure(figsize = (10,8))\n",
        "Data.groupby('product').consumer_complaint_narrative.count().plot.bar(ylim=0)\n",
        "plt.show"
      ],
      "metadata": {
        "colab": {
          "base_uri": "https://localhost:8080/",
          "height": 625
        },
        "id": "3skLyqxNzF5W",
        "outputId": "19e546e7-e085-4d55-f2e9-284102bf93e1"
      },
      "execution_count": null,
      "outputs": [
        {
          "output_type": "execute_result",
          "data": {
            "text/plain": [
              "<function matplotlib.pyplot.show>"
            ]
          },
          "metadata": {},
          "execution_count": 6
        },
        {
          "output_type": "display_data",
          "data": {
            "text/plain": [
              "<Figure size 720x576 with 1 Axes>"
            ],
            "image/png": "[encoded data removed]"
          },
          "metadata": {
            "needs_background": "light"
          }
        }
      ]
    },
    {
      "cell_type": "code",
      "source": [
        "#Split data 'product' dan 'consumer_complaint_narrative' menjadi 2 (train dan valid)\n",
        "\n",
        "train_x, valid_x, train_y, valid_y = model_selection.train_test_split(Data['consumer_complaint_narrative'], Data['product'])\n",
        "\n",
        "encoder = preprocessing.LabelEncoder()\n",
        "train_y = encoder.fit_transform(train_y)\n",
        "valid_y = encoder.fit_transform(valid_y)\n",
        "\n",
        "tfidf_vect = TfidfVectorizer(analyzer='word', token_pattern=r'\\w{1,}', max_features=5000)\n",
        "\n",
        "tfidf_vect.fit(Data['consumer_complaint_narrative'])\n",
        "xtrain_tfidf = tfidf_vect.transform(train_x)\n",
        "xvalid_tfidf = tfidf_vect.transform(valid_x)"
      ],
      "metadata": {
        "id": "PcllXMzhzz4g"
      },
      "execution_count": null,
      "outputs": []
    },
    {
      "cell_type": "code",
      "source": [],
      "metadata": {
        "id": "IGKBJMOr0Mv_"
      },
      "execution_count": null,
      "outputs": []
    },
    {
      "cell_type": "code",
      "source": [
        "#buat model dengan Logistic regerssion\n",
        "\n",
        "#model building and evaluation\n",
        "model = linear_model.LogisticRegression().fit(xtrain_tfidf, train_y)\n",
        "\n",
        "#model summary\n",
        "LogisticRegression(C=1.0, class_weight=None, dual=False, fit_intercept=True, intercept_scaling=1, max_iter=100, multi_class='ovr', n_jobs=1, penalty='12', random_state=None, solver='liblinear', tol=0.0001, verbose=0, warm_start=False)\n",
        "\n",
        "#Checking accuracy\n",
        "acc = metrics.accuracy_score(model.predict(xvalid_tfidf), valid_y)\n",
        "print(\"Accuracy: \", acc)\n",
        "\n",
        "#Classification report\n",
        "print(metrics.classification_report(valid_y,model.predict(xvalid_tfidf),target_names=Data['product'].unique()))\n"
      ],
      "metadata": {
        "colab": {
          "base_uri": "https://localhost:8080/"
        },
        "id": "DbnPEV7D0p9z",
        "outputId": "77975572-4f2a-44f2-cee3-8e176f96f639"
      },
      "execution_count": null,
      "outputs": [
        {
          "output_type": "stream",
          "name": "stdout",
          "text": [
            "Accuracy:  0.8459465932223685\n",
            "                         precision    recall  f1-score   support\n",
            "\n",
            "        Debt collection       0.82      0.80      0.81      1428\n",
            "          Consumer Loan       0.76      0.59      0.66       936\n",
            "               Mortgage       0.80      0.82      0.81      1974\n",
            "            Credit card       0.85      0.85      0.85      3080\n",
            "       Credit reporting       0.82      0.89      0.86      4400\n",
            "           Student loan       0.73      0.57      0.64       159\n",
            "Bank account or service       0.92      0.95      0.94      3767\n",
            "            Payday loan       0.00      0.00      0.00        29\n",
            "        Money transfers       0.71      0.32      0.44       184\n",
            "Other financial service       0.81      0.61      0.69       206\n",
            "           Prepaid card       0.90      0.80      0.85       539\n",
            "\n",
            "               accuracy                           0.85     16702\n",
            "              macro avg       0.74      0.65      0.69     16702\n",
            "           weighted avg       0.84      0.85      0.84     16702\n",
            "\n"
          ]
        },
        {
          "output_type": "stream",
          "name": "stderr",
          "text": [
            "/usr/local/lib/python3.7/dist-packages/sklearn/linear_model/_logistic.py:818: ConvergenceWarning: lbfgs failed to converge (status=1):\n",
            "STOP: TOTAL NO. of ITERATIONS REACHED LIMIT.\n",
            "\n",
            "Increase the number of iterations (max_iter) or scale the data as shown in:\n",
            "    https://scikit-learn.org/stable/modules/preprocessing.html\n",
            "Please also refer to the documentation for alternative solver options:\n",
            "    https://scikit-learn.org/stable/modules/linear_model.html#logistic-regression\n",
            "  extra_warning_msg=_LOGISTIC_SOLVER_CONVERGENCE_MSG,\n",
            "/usr/local/lib/python3.7/dist-packages/sklearn/metrics/_classification.py:1318: UndefinedMetricWarning: Precision and F-score are ill-defined and being set to 0.0 in labels with no predicted samples. Use `zero_division` parameter to control this behavior.\n",
            "  _warn_prf(average, modifier, msg_start, len(result))\n",
            "/usr/local/lib/python3.7/dist-packages/sklearn/metrics/_classification.py:1318: UndefinedMetricWarning: Precision and F-score are ill-defined and being set to 0.0 in labels with no predicted samples. Use `zero_division` parameter to control this behavior.\n",
            "  _warn_prf(average, modifier, msg_start, len(result))\n",
            "/usr/local/lib/python3.7/dist-packages/sklearn/metrics/_classification.py:1318: UndefinedMetricWarning: Precision and F-score are ill-defined and being set to 0.0 in labels with no predicted samples. Use `zero_division` parameter to control this behavior.\n",
            "  _warn_prf(average, modifier, msg_start, len(result))\n"
          ]
        }
      ]
    },
    {
      "cell_type": "code",
      "source": [
        "from sklearn.metrics import confusion_matrix\n",
        "\n",
        "conf_mat = confusion_matrix(valid_y, model.predict(xvalid_tfidf))\n",
        "\n",
        "category_id_df = Data[['product', 'category_id']].drop_duplicates().sort_values('category_id')\n",
        "category_to_df = dict(category_id_df.values)\n",
        "id_to_category = dict(category_id_df[['category_id', 'product']].values)\n",
        "\n",
        "fig, ax = plt.subplots(figsize=(10,6))\n",
        "sns.heatmap(conf_mat, annot=True, fmt='d', cmap=\"BuPu\",\n",
        "            xticklabels=category_id_df[['product']].values,\n",
        "            yticklabels=category_id_df[['product']].values)\n",
        "plt.ylabel('Actual')\n",
        "plt.xlabel('Prediction')\n",
        "plt.show\n"
      ],
      "metadata": {
        "colab": {
          "base_uri": "https://localhost:8080/",
          "height": 490
        },
        "id": "PivcR76p67AC",
        "outputId": "ddcae4b2-16e6-4dce-cb9b-bf598ec89b12"
      },
      "execution_count": null,
      "outputs": [
        {
          "output_type": "execute_result",
          "data": {
            "text/plain": [
              "<function matplotlib.pyplot.show>"
            ]
          },
          "metadata": {},
          "execution_count": 12
        },
        {
          "output_type": "display_data",
          "data": {
            "text/plain": [
              "<Figure size 720x432 with 2 Axes>"
            ],
            "image/png": "[encoded data removed]"
          },
          "metadata": {
            "needs_background": "light"
          }
        }
      ]
    }
  ]
}